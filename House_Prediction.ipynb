{
  "cells": [
    {
      "cell_type": "code",
      "execution_count": null,
      "metadata": {
        "id": "QZ7aJ1_7aPDi"
      },
      "outputs": [],
      "source": [
        "import numpy as np\n",
        "import pandas as pd\n",
        "import tensorflow as tf\n",
        "import matplotlib.pyplot as plt"
      ]
    },
    {
      "cell_type": "code",
      "execution_count": 4,
      "metadata": {
        "id": "PJ5oyP2maYUt"
      },
      "outputs": [],
      "source": [
        "def build_model(my_learning_rate, inputs, outputs):\n",
        "  model = tf.keras.Model(inputs = inputs, outputs= outputs)\n",
        "  model.compile(optimizer = tf.keras.optimizers.experimental.RMSprop(learning_rate= my_learning_rate),\n",
        "                loss= \"mean_absolute_error\",\n",
        "                metrics = tf.keras.metrics.RootMeanSquaredError())\n",
        "  return model\n",
        "\n",
        "def train_model(model, df, label_name, epochs, batch_size):\n",
        "  feature = {name:np.array(value) for name, value in df.items()}\n",
        "  label = np.array(feature.pop(label_name))\n",
        "\n",
        "  history = model.fit(x= feature, y = label, epochs= epochs, batch_size= batch_size)\n",
        "\n",
        "  epochs = history.epoch\n",
        "\n",
        "  hist = pd.DataFrame(history.history)\n",
        "  rmse = hist[\"root_mean_squared_error\"]\n",
        "\n",
        "  return hist, epochs, rmse"
      ]
    },
    {
      "cell_type": "code",
      "execution_count": 5,
      "metadata": {
        "id": "BZBebPlVesNc"
      },
      "outputs": [],
      "source": [
        "train_df = pd.read_csv(\"/content/sample_data/california_housing_train.csv\")\n",
        "test_df = pd.read_csv(\"/content/sample_data/california_housing_test.csv\")\n",
        "\n",
        "train_df = train_df.reindex(np.random.permutation(train_df.index))\n",
        "\n",
        "scale_factor = 1000\n",
        "train_df /= scale_factor\n",
        "test_df /= scale_factor"
      ]
    },
    {
      "cell_type": "code",
      "execution_count": 6,
      "metadata": {
        "id": "GN4zI_moiFNK"
      },
      "outputs": [],
      "source": [
        "def plot_the_loss_curve(epochs, rmse):\n",
        "  plt.figure()\n",
        "  plt.xlabel(\"Epoch\")\n",
        "  plt.ylabel(\"Root Mean Squared Error\")\n",
        "\n",
        "  plt.plot(epochs, rmse, label=\"Loss\")\n",
        "  plt.legend()\n",
        "  plt.ylim([rmse.min()*0.97, rmse.max()])\n",
        "  plt.show()"
      ]
    },
    {
      "cell_type": "code",
      "execution_count": null,
      "metadata": {
        "id": "IP-4pICCi5BO"
      },
      "outputs": [],
      "source": [
        "input={\n",
        "    \"latitude\": tf.keras.layers.Input(shape= (1,), dtype= tf.float32, name=\"Latitude\"),\n",
        "    \"longitude\":tf.keras.layers.Input(shape= (1,), dtype= tf.float32, name= \"Longitude\")\n",
        "}"
      ]
    },
    {
      "cell_type": "code",
      "execution_count": null,
      "metadata": {
        "id": "j0GUkU21AXPb"
      },
      "outputs": [],
      "source": [
        "resolution_degree = 1.0\n",
        "\n",
        "latitude_boundaries = list(np.arange(int(min(train_df[\"latitude\"])),\n",
        "                                     int(max(train_df[\"latitude\"])),\n",
        "                                     resolution_degree))\n",
        "\n",
        "latitude = tf.keras.layers.Discretization(\n",
        "    bin_boundaries= latitude_boundaries,\n",
        "    name = \"Discretization_LatitudeLayer\"\n",
        ")(input.get(\"latitude\"))\n",
        "\n",
        "latitude = tf.keras.layers.CategoryEncoding(\n",
        "    num_tokens= len(latitude_boundaries) + 1,\n",
        "    output_mode = \"one_hot\",\n",
        "    name= \"Latitude_CategoryEncoding_Layer\"\n",
        ")(latitude)\n",
        "\n",
        "\n",
        "longitude_boundaries = list(np.arange(\n",
        "    int(min(train_df[\"longitude\"])),\n",
        "    int(max(train_df[\"longitude\"])),\n",
        "    resolution_degree\n",
        "    ))\n",
        "\n",
        "longitude = tf.keras.layers.Discretization(\n",
        "    bin_boundaries = longitude_boundaries,\n",
        "    name = \"Discreatization_LongitudeLayer\"\n",
        ")(input.get(\"longitude\"))\n",
        "\n",
        "longitude = tf.keras.layers.CategoryEncoding(\n",
        "    num_tokens = len(longitude_boundaries) + 1,\n",
        "    output_mode = \"one_hot\",\n",
        "    name= \"Longitude_CategoryEncoding_Layer\"\n",
        ")(longitude)\n",
        "\n",
        "Concatenate = tf.keras.layers.Concatenate()([latitude, longitude])\n",
        "dense_output = tf.keras.layers.Dense(units = 1, name= \"Dense_Output\")(Concatenate)\n",
        "\n",
        "output = {\n",
        "    \"Output\": dense_output\n",
        "}"
      ]
    },
    {
      "cell_type": "code",
      "execution_count": null,
      "metadata": {
        "colab": {
          "base_uri": "https://localhost:8080/",
          "height": 1000
        },
        "id": "LaZZjTDRFVJq",
        "outputId": "d4f6f551-a94b-4d12-a9cf-67e1c87b4c48"
      },
      "outputs": [],
      "source": [
        "learning_rate = 0.1\n",
        "epochs = 35\n",
        "batch_size = 10\n",
        "label_name = \"median_house_value\"\n",
        "\n",
        "model = build_model(learning_rate, input, output)\n",
        "hist, epochs, rmse = train_model(model, train_df, label_name, epochs, batch_size)\n",
        "plot_the_loss_curve(epochs, rmse)"
      ]
    },
    {
      "cell_type": "code",
      "execution_count": null,
      "metadata": {
        "colab": {
          "base_uri": "https://localhost:8080/"
        },
        "id": "a8VMfx4PH6VR",
        "outputId": "6a34cfcf-5edb-44e5-a8a8-6e5797f8c204"
      },
      "outputs": [],
      "source": [
        "test_features = {name:np.array(values) for name, values in test_df.items()}\n",
        "test_label = np.array(test_features.pop(label_name))\n",
        "model.evaluate(x=test_features, y=test_label, batch_size=batch_size)"
      ]
    }
  ],
  "metadata": {
    "colab": {
      "provenance": []
    },
    "kernelspec": {
      "display_name": "Python 3",
      "name": "python3"
    },
    "language_info": {
      "name": "python"
    }
  },
  "nbformat": 4,
  "nbformat_minor": 0
}
