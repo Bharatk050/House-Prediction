{
  "nbformat": 4,
  "nbformat_minor": 0,
  "metadata": {
    "colab": {
      "provenance": []
    },
    "kernelspec": {
      "name": "python3",
      "display_name": "Python 3"
    },
    "language_info": {
      "name": "python"
    }
  },
  "cells": [
    {
      "cell_type": "code",
      "execution_count": 3,
      "metadata": {
        "id": "QZ7aJ1_7aPDi"
      },
      "outputs": [],
      "source": [
        "import numpy as np\n",
        "import pandas as pd\n",
        "import tensorflow as tf\n",
        "import matplotlib.pyplot as plt"
      ]
    },
    {
      "cell_type": "code",
      "source": [
        "def build_model(my_learning_rate, inputs, outputs):\n",
        "  model = tf.keras.Model(inputs = inputs, outputs= outputs)\n",
        "  model.compile(optimizer = tf.keras.optimizers.experimental.RMSprop(learning_rate= my_learning_rate),\n",
        "                loss= \"mean_absolute_error\",\n",
        "                metrics = tf.keras.metrics.RootMeanSquaredError())\n",
        "  return model\n",
        "\n",
        "def train_model(model, df, label_name, epochs, batch_size):\n",
        "  feature = {name:np.array(value) for name, value in df.items()}\n",
        "  label = np.array(feature.pop(label_name))\n",
        "\n",
        "  history = model.fit(x= feature, y = label, epochs= epochs, batch_size= batch_size)\n",
        "\n",
        "  epochs = history.epoch\n",
        "\n",
        "  hist = pd.DataFrame(history.history)\n",
        "  rmse = hist[\"root_mean_squared_error\"]\n",
        "\n",
        "  return hist, epochs, rmse"
      ],
      "metadata": {
        "id": "PJ5oyP2maYUt"
      },
      "execution_count": 4,
      "outputs": []
    },
    {
      "cell_type": "code",
      "source": [
        "train_df = pd.read_csv(\"/content/sample_data/california_housing_train.csv\")\n",
        "test_df = pd.read_csv(\"/content/sample_data/california_housing_test.csv\")\n",
        "\n",
        "train_df = train_df.reindex(np.random.permutation(train_df.index))\n",
        "\n",
        "scale_factor = 1000\n",
        "train_df /= scale_factor"
      ],
      "metadata": {
        "id": "BZBebPlVesNc"
      },
      "execution_count": 5,
      "outputs": []
    },
    {
      "cell_type": "code",
      "source": [
        "learning_rate = 0.1\n",
        "epochs = 35\n",
        "batch_size = 10\n",
        "feature = \"total_rooms\"\n",
        "label = \"median_house_value\"\n",
        "\n",
        "model = build_model(my_learning_rate= learning_rate)\n",
        "hist , epochs, mae = train_model(model = model, df = train_df, feature=feature, label=label, epochs=epochs, batch_size=batch_size)"
      ],
      "metadata": {
        "id": "FrL5J1Szd3HA"
      },
      "execution_count": null,
      "outputs": []
    },
    {
      "cell_type": "code",
      "source": [
        "hist"
      ],
      "metadata": {
        "id": "7d7gIjCLhLIW"
      },
      "execution_count": null,
      "outputs": []
    },
    {
      "cell_type": "code",
      "source": [
        "def plot_the_loss_curve(epochs, rmse):\n",
        "  plt.figure()\n",
        "  plt.xlabel(\"Epoch\")\n",
        "  plt.ylabel(\"Root Mean Squared Error\")\n",
        "\n",
        "  plt.plot(epochs, rmse, label=\"Loss\")\n",
        "  plt.legend()\n",
        "  plt.ylim([rmse.min()*0.97, rmse.max()])\n",
        "  plt.show()"
      ],
      "metadata": {
        "id": "GN4zI_moiFNK"
      },
      "execution_count": 6,
      "outputs": []
    },
    {
      "cell_type": "code",
      "source": [
        "plot_the_loss_curve(epochs, mae)"
      ],
      "metadata": {
        "id": "ifUO7HjbimdT"
      },
      "execution_count": null,
      "outputs": []
    },
    {
      "cell_type": "code",
      "source": [
        "input={\n",
        "    \"latitude\": tf.keras.layers.Input(shape= (1,), dtype= tf.float32, name=\"Latitude\"),\n",
        "    \"longitude\":tf.keras.layers.Input(shape= (1,), dtype= tf.float32, name= \"Longitude\")\n",
        "}"
      ],
      "metadata": {
        "id": "IP-4pICCi5BO"
      },
      "execution_count": 7,
      "outputs": []
    },
    {
      "cell_type": "code",
      "source": [
        "resolution_degree = 1.0\n",
        "\n",
        "latitude_boundaries = list(np.arange(int(min(train_df[\"latitude\"])),\n",
        "                                     int(max(train_df[\"latitude\"])),\n",
        "                                     resolution_degree))\n",
        "\n",
        "latitude = tf.keras.layers.Discretization(\n",
        "    bin_boundaries= latitude_boundaries,\n",
        "    name = \"Discretization_LatitudeLayer\"\n",
        ")(input.get(\"latitude\"))\n",
        "\n",
        "latitude = tf.keras.layers.CategoryEncoding(\n",
        "    num_tokens= len(latitude_boundaries) + 1,\n",
        "    output_mode = \"one_hot\",\n",
        "    name= \"Latitude_CategoryEncoding_Layer\"\n",
        ")(latitude)\n",
        "\n",
        "\n",
        "longitude_boundaries = list(np.arange(\n",
        "    int(min(train_df[\"longitude\"])),\n",
        "    int(max(train_df[\"longitude\"])),\n",
        "    resolution_degree\n",
        "    ))\n",
        "\n",
        "longitude = tf.keras.layers.Discretization(\n",
        "    bin_boundaries = longitude_boundaries,\n",
        "    name = \"Discreatization_LongitudeLayer\"\n",
        ")(input.get(\"longitude\"))\n",
        "\n",
        "longitude = tf.keras.layers.CategoryEncoding(\n",
        "    num_tokens = len(longitude_boundaries) + 1,\n",
        "    output_mode = \"one_hot\",\n",
        "    name= \"Longitude_CategoryEncoding_Layer\"\n",
        ")(longitude)\n",
        "\n",
        "Concatenate = tf.keras.layers.Concatenate()([latitude, longitude])\n",
        "dense_output = tf.keras.layers.Dense(units = 1, name= \"Dense_Output\")(Concatenate)\n",
        "\n",
        "output = {\n",
        "    \"Output\": dense_output\n",
        "}"
      ],
      "metadata": {
        "id": "j0GUkU21AXPb"
      },
      "execution_count": 15,
      "outputs": []
    },
    {
      "cell_type": "code",
      "source": [
        "learning_rate = 0.1\n",
        "epochs = 35\n",
        "batch_size = 10\n",
        "label_name = \"median_house_value\"\n",
        "\n",
        "model = build_model(learning_rate, input, output)\n",
        "hist, epochs, rmse = train_model(model, train_df, label_name, epochs, batch_size)\n",
        "plot_the_loss_curve(epochs, rmse)"
      ],
      "metadata": {
        "colab": {
          "base_uri": "https://localhost:8080/",
          "height": 1000
        },
        "id": "LaZZjTDRFVJq",
        "outputId": "d4f6f551-a94b-4d12-a9cf-67e1c87b4c48"
      },
      "execution_count": 16,
      "outputs": [
        {
          "output_type": "stream",
          "name": "stdout",
          "text": [
            "Epoch 1/35\n"
          ]
        },
        {
          "output_type": "stream",
          "name": "stderr",
          "text": [
            "/usr/local/lib/python3.10/dist-packages/keras/src/engine/functional.py:642: UserWarning: Input dict contained keys ['housing_median_age', 'total_rooms', 'total_bedrooms', 'population', 'households', 'median_income'] which did not match any model input. They will be ignored by the model.\n",
            "  inputs = self._flatten_to_reference_inputs(inputs)\n"
          ]
        },
        {
          "output_type": "stream",
          "name": "stdout",
          "text": [
            "1700/1700 [==============================] - 7s 3ms/step - loss: 103.8112 - root_mean_squared_error: 140.4699\n",
            "Epoch 2/35\n",
            "1700/1700 [==============================] - 3s 2ms/step - loss: 88.8483 - root_mean_squared_error: 119.0765\n",
            "Epoch 3/35\n",
            "1700/1700 [==============================] - 3s 2ms/step - loss: 88.8283 - root_mean_squared_error: 119.1283\n",
            "Epoch 4/35\n",
            "1700/1700 [==============================] - 4s 2ms/step - loss: 88.8344 - root_mean_squared_error: 118.9504\n",
            "Epoch 5/35\n",
            "1700/1700 [==============================] - 3s 2ms/step - loss: 88.8440 - root_mean_squared_error: 119.1863\n",
            "Epoch 6/35\n",
            "1700/1700 [==============================] - 3s 2ms/step - loss: 88.8219 - root_mean_squared_error: 119.1666\n",
            "Epoch 7/35\n",
            "1700/1700 [==============================] - 4s 2ms/step - loss: 88.8454 - root_mean_squared_error: 119.0497\n",
            "Epoch 8/35\n",
            "1700/1700 [==============================] - 4s 2ms/step - loss: 88.8295 - root_mean_squared_error: 119.1271\n",
            "Epoch 9/35\n",
            "1700/1700 [==============================] - 4s 2ms/step - loss: 88.8428 - root_mean_squared_error: 119.1346\n",
            "Epoch 10/35\n",
            "1700/1700 [==============================] - 5s 3ms/step - loss: 88.8411 - root_mean_squared_error: 119.2454\n",
            "Epoch 11/35\n",
            "1700/1700 [==============================] - 4s 2ms/step - loss: 88.8219 - root_mean_squared_error: 119.0674\n",
            "Epoch 12/35\n",
            "1700/1700 [==============================] - 3s 2ms/step - loss: 88.8388 - root_mean_squared_error: 119.1243\n",
            "Epoch 13/35\n",
            "1700/1700 [==============================] - 3s 2ms/step - loss: 88.8470 - root_mean_squared_error: 119.0414\n",
            "Epoch 14/35\n",
            "1700/1700 [==============================] - 4s 2ms/step - loss: 88.8225 - root_mean_squared_error: 119.2509\n",
            "Epoch 15/35\n",
            "1700/1700 [==============================] - 3s 2ms/step - loss: 88.8392 - root_mean_squared_error: 119.1875\n",
            "Epoch 16/35\n",
            "1700/1700 [==============================] - 3s 2ms/step - loss: 88.8431 - root_mean_squared_error: 119.1039\n",
            "Epoch 17/35\n",
            "1700/1700 [==============================] - 3s 2ms/step - loss: 88.8443 - root_mean_squared_error: 119.0385\n",
            "Epoch 18/35\n",
            "1700/1700 [==============================] - 4s 2ms/step - loss: 88.8265 - root_mean_squared_error: 119.1905\n",
            "Epoch 19/35\n",
            "1700/1700 [==============================] - 3s 2ms/step - loss: 88.8344 - root_mean_squared_error: 119.1747\n",
            "Epoch 20/35\n",
            "1700/1700 [==============================] - 3s 2ms/step - loss: 88.8501 - root_mean_squared_error: 119.0938\n",
            "Epoch 21/35\n",
            "1700/1700 [==============================] - 3s 2ms/step - loss: 88.8393 - root_mean_squared_error: 119.1066\n",
            "Epoch 22/35\n",
            "1700/1700 [==============================] - 4s 2ms/step - loss: 88.8349 - root_mean_squared_error: 119.2049\n",
            "Epoch 23/35\n",
            "1700/1700 [==============================] - 3s 2ms/step - loss: 88.8241 - root_mean_squared_error: 119.2159\n",
            "Epoch 24/35\n",
            "1700/1700 [==============================] - 3s 2ms/step - loss: 88.8367 - root_mean_squared_error: 119.1503\n",
            "Epoch 25/35\n",
            "1700/1700 [==============================] - 5s 3ms/step - loss: 88.8333 - root_mean_squared_error: 119.0114\n",
            "Epoch 26/35\n",
            "1700/1700 [==============================] - 4s 2ms/step - loss: 88.8481 - root_mean_squared_error: 119.2633\n",
            "Epoch 27/35\n",
            "1700/1700 [==============================] - 3s 2ms/step - loss: 88.8277 - root_mean_squared_error: 119.0327\n",
            "Epoch 28/35\n",
            "1700/1700 [==============================] - 3s 2ms/step - loss: 88.8443 - root_mean_squared_error: 119.2532\n",
            "Epoch 29/35\n",
            "1700/1700 [==============================] - 4s 2ms/step - loss: 88.8283 - root_mean_squared_error: 119.1360\n",
            "Epoch 30/35\n",
            "1700/1700 [==============================] - 5s 3ms/step - loss: 88.8425 - root_mean_squared_error: 119.1650\n",
            "Epoch 31/35\n",
            "1700/1700 [==============================] - 4s 2ms/step - loss: 88.8443 - root_mean_squared_error: 119.2435\n",
            "Epoch 32/35\n",
            "1700/1700 [==============================] - 4s 2ms/step - loss: 88.8282 - root_mean_squared_error: 119.2098\n",
            "Epoch 33/35\n",
            "1700/1700 [==============================] - 3s 2ms/step - loss: 88.8292 - root_mean_squared_error: 118.9740\n",
            "Epoch 34/35\n",
            "1700/1700 [==============================] - 3s 2ms/step - loss: 88.8156 - root_mean_squared_error: 119.1672\n",
            "Epoch 35/35\n",
            "1700/1700 [==============================] - 3s 2ms/step - loss: 88.8393 - root_mean_squared_error: 119.0771\n"
          ]
        },
        {
          "output_type": "display_data",
          "data": {
            "text/plain": [
              "<Figure size 640x480 with 1 Axes>"
            ],
            "image/png": "[encoded data removed]"
          },
          "metadata": {}
        }
      ]
    },
    {
      "cell_type": "code",
      "source": [
        "test_features = {name:np.array(values) for name, values in test_df.items()}\n",
        "test_label = np.array(test_features.pop(label_name))\n",
        "model.evaluate(x=test_features, y=test_label, batch_size=batch_size)"
      ],
      "metadata": {
        "colab": {
          "base_uri": "https://localhost:8080/"
        },
        "id": "a8VMfx4PH6VR",
        "outputId": "6a34cfcf-5edb-44e5-a8a8-6e5797f8c204"
      },
      "execution_count": 21,
      "outputs": [
        {
          "output_type": "stream",
          "name": "stdout",
          "text": [
            " 31/300 [==>...........................] - ETA: 0s - loss: 197935.5469 - root_mean_squared_error: 225161.9375  "
          ]
        },
        {
          "output_type": "stream",
          "name": "stderr",
          "text": [
            "/usr/local/lib/python3.10/dist-packages/keras/src/engine/functional.py:642: UserWarning: Input dict contained keys ['housing_median_age', 'total_rooms', 'total_bedrooms', 'population', 'households', 'median_income'] which did not match any model input. They will be ignored by the model.\n",
            "  inputs = self._flatten_to_reference_inputs(inputs)\n"
          ]
        },
        {
          "output_type": "stream",
          "name": "stdout",
          "text": [
            "300/300 [==============================] - 1s 2ms/step - loss: 205667.2656 - root_mean_squared_error: 234714.3750\n"
          ]
        },
        {
          "output_type": "execute_result",
          "data": {
            "text/plain": [
              "[205667.265625, 234714.375]"
            ]
          },
          "metadata": {},
          "execution_count": 21
        }
      ]
    },
    {
      "cell_type": "code",
      "source": [],
      "metadata": {
        "id": "bsdrVQKuI43e"
      },
      "execution_count": null,
      "outputs": []
    }
  ]
}